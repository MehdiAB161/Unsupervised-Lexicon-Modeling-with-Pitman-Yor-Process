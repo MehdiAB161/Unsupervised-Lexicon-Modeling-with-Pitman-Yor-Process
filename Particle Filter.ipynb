{
 "cells": [
  {
   "cell_type": "markdown",
   "metadata": {},
   "source": [
    "# Particle filter"
   ]
  },
  {
   "cell_type": "code",
   "execution_count": null,
   "metadata": {
    "collapsed": true
   },
   "outputs": [],
   "source": [
    "import numpy as np\n",
    "import scipy\n",
    "from scipy.sparse import coo_matrix"
   ]
  },
  {
   "cell_type": "markdown",
   "metadata": {},
   "source": [
    "## Functions"
   ]
  },
  {
   "cell_type": "code",
   "execution_count": null,
   "metadata": {
    "collapsed": true
   },
   "outputs": [],
   "source": [
    "def import_data(file) :\n",
    "    keys = [\"D\", \"W\", \"N\"]\n",
    "    file_info = {}\n",
    "    \n",
    "    with open(file) as myfile:\n",
    "        for i in range(3) : file_info[keys[i]] = int(next(myfile))\n",
    "\n",
    "\n",
    "    file_nnz = np.loadtxt(open(file, \"rb\"), delimiter=\" \", skiprows=3, dtype=int)\n",
    "\n",
    "    row  = file_nnz[:,0] - 1\n",
    "    col  = file_nnz[:,1] - 1\n",
    "    data = file_nnz[:,2]\n",
    "    count_matrix_sparse = coo_matrix((data, (row, col)), shape=(file_info[\"D\"], file_info[\"W\"]))\n",
    "    return count_matrix_sparse, file_info\n",
    "\n",
    "def normalize(matrix) :\n",
    "    ''' Normalize the matrix rowwize'''\n",
    "    return matrix / np.sum(matrix, axis = -1)[..., None] "
   ]
  },
  {
   "cell_type": "code",
   "execution_count": null,
   "metadata": {
    "collapsed": true
   },
   "outputs": [],
   "source": []
  },
  {
   "cell_type": "code",
   "execution_count": null,
   "metadata": {
    "collapsed": true
   },
   "outputs": [],
   "source": []
  },
  {
   "cell_type": "markdown",
   "metadata": {},
   "source": [
    "## Draft functions"
   ]
  },
  {
   "cell_type": "code",
   "execution_count": null,
   "metadata": {
    "collapsed": true
   },
   "outputs": [],
   "source": []
  },
  {
   "cell_type": "code",
   "execution_count": 12,
   "metadata": {},
   "outputs": [
    {
     "ename": "SyntaxError",
     "evalue": "invalid syntax (<ipython-input-12-c5f1217eaa1f>, line 13)",
     "output_type": "error",
     "traceback": [
      "\u001b[0;36m  File \u001b[0;32m\"<ipython-input-12-c5f1217eaa1f>\"\u001b[0;36m, line \u001b[0;32m13\u001b[0m\n\u001b[0;31m    t[w,, k+1] = 1\u001b[0m\n\u001b[0m        ^\u001b[0m\n\u001b[0;31mSyntaxError\u001b[0m\u001b[0;31m:\u001b[0m invalid syntax\n"
     ]
    }
   ],
   "source": [
    "def generate_word(context, nb_words, d, theta):\n",
    "    \"\"\" Returns a new word drawn from G_context\"\"\"\n",
    "    if context == None :\n",
    "        return np.random.randint(nb_words)\n",
    "    else :\n",
    "        assign_proba_table = [c[w] - d * t[w] for i in range(nb_words)]\n",
    "        \n",
    "        normalized_assign_proba = assign_proba_table / np.sum(assign_proba_table)\n",
    "        \n",
    "        new_pick_proba = theta + d * t\n",
    "        \n",
    "        if np.random.rand() < new_pick_proba :\n",
    "            w = generate_word((context[1,:], nb_words, d, theta))\n",
    "            t[w,, k+1] = 1\n",
    "            c[w,, k+1] = 1 \n",
    "            return w\n",
    "        \n",
    "        else :\n",
    "            return np.random.multinomial(n=1, p=normalized_assign_proba)"
   ]
  },
  {
   "cell_type": "code",
   "execution_count": null,
   "metadata": {
    "collapsed": true
   },
   "outputs": [],
   "source": [
    "def word_prob(context, word, nb_words):\n",
    "    \"\"\" Returns the probability that the word occurs after the context\"\"\"\n",
    "    c_marginal = np.sum(c, axis=1)\n",
    "    t_marginal = np.sum(t, axis = 1\n",
    "    if context.shape[0] == 0 : \n",
    "        return 1 / nb_words\n",
    "    else :\n",
    "        # TODO : Check the axis\n",
    "        return (c_marginal[word] - d * t_marginal[w] ) / ( theta +  np.sum(c)) +\n",
    "                        (theta + d * np.sum(t) ) / ( theta +  np.sum(c)) * word_prob(context, word, nb_words)"
   ]
  },
  {
   "cell_type": "code",
   "execution_count": null,
   "metadata": {
    "collapsed": true
   },
   "outputs": [],
   "source": [
    "def chinese_restaurant_franchise(n, )"
   ]
  },
  {
   "cell_type": "code",
   "execution_count": null,
   "metadata": {
    "collapsed": true
   },
   "outputs": [],
   "source": [
    "def generate_particle():\n",
    "    pass\n",
    "\n",
    "def particle_filter():\n",
    "    pass"
   ]
  },
  {
   "cell_type": "code",
   "execution_count": null,
   "metadata": {
    "collapsed": true
   },
   "outputs": [],
   "source": []
  },
  {
   "cell_type": "markdown",
   "metadata": {},
   "source": [
    "## Simulation"
   ]
  },
  {
   "cell_type": "code",
   "execution_count": null,
   "metadata": {
    "collapsed": true
   },
   "outputs": [],
   "source": [
    "file = 'data/docword.nips.txt'\n",
    "\n",
    "count_matrix_sparse, file_info = import_data(file) \n",
    "D = file_info[\"D\"]\n",
    "W = file_info[\"W\"]\n",
    "\n",
    "print(\"The number of documents is \" + str(D))\n",
    "print(\"The number of words is \" + str(W))"
   ]
  },
  {
   "cell_type": "code",
   "execution_count": null,
   "metadata": {
    "collapsed": true
   },
   "outputs": [],
   "source": [
    "counts_matrix = count_matrix_sparse.toarray()"
   ]
  },
  {
   "cell_type": "code",
   "execution_count": null,
   "metadata": {
    "collapsed": true
   },
   "outputs": [],
   "source": []
  }
 ],
 "metadata": {
  "kernelspec": {
   "display_name": "Python [conda env:tensorflow]",
   "language": "python",
   "name": "conda-env-tensorflow-py"
  },
  "language_info": {
   "codemirror_mode": {
    "name": "ipython",
    "version": 3
   },
   "file_extension": ".py",
   "mimetype": "text/x-python",
   "name": "python",
   "nbconvert_exporter": "python",
   "pygments_lexer": "ipython3",
   "version": "3.5.4"
  }
 },
 "nbformat": 4,
 "nbformat_minor": 2
}
